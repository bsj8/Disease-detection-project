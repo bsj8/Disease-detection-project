{
 "cells": [
  {
   "cell_type": "code",
   "execution_count": 27,
   "metadata": {},
   "outputs": [],
   "source": [
    "# libraries & packages\n",
    "import pandas as pd\n",
    "import requests\n",
    "from io import StringIO\n",
    "\n",
    "import csv\n",
    "from requests import get\n",
    "import json\n",
    "from datetime import datetime, timedelta, date\n",
    "import numpy as np\n",
    "from scipy.spatial.distance import euclidean, cityblock, cosine\n",
    "from scipy.stats import pearsonr\n",
    "\n",
    "import csv\n",
    "import re\n",
    "import argparse\n",
    "import collections\n",
    "import json\n",
    "import glob\n",
    "import math\n",
    "import os\n",
    "import string\n",
    "import sys\n",
    "import time\n",
    "import xml\n",
    "import random"
   ]
  },
  {
   "cell_type": "code",
   "execution_count": 28,
   "metadata": {},
   "outputs": [
    {
     "name": "stdout",
     "output_type": "stream",
     "text": [
      "    age  sex   cp  trestbphs   chol  fbs  restecg  thalach  exang  oldpeak   \n",
      "0  63.0  1.0  1.0      145.0  233.0  1.0      2.0    150.0    0.0      2.3  \\\n",
      "1  67.0  1.0  4.0      160.0  286.0  0.0      2.0    108.0    1.0      1.5   \n",
      "2  67.0  1.0  4.0      120.0  229.0  0.0      2.0    129.0    1.0      2.6   \n",
      "3  37.0  1.0  3.0      130.0  250.0  0.0      0.0    187.0    0.0      3.5   \n",
      "4  41.0  0.0  2.0      130.0  204.0  0.0      2.0    172.0    0.0      1.4   \n",
      "\n",
      "   slope   ca  thal  target  \n",
      "0    3.0  0.0   6.0       0  \n",
      "1    2.0  3.0   3.0       2  \n",
      "2    2.0  2.0   7.0       1  \n",
      "3    3.0  0.0   3.0       0  \n",
      "4    1.0  0.0   3.0       0  \n",
      "\n",
      " Shape of Features (x): (303, 13)\n",
      "\n",
      " Shape of Target (y): (303,)\n"
     ]
    },
    {
     "name": "stderr",
     "output_type": "stream",
     "text": [
      "/Library/Frameworks/Python.framework/Versions/3.10/lib/python3.10/site-packages/urllib3/connectionpool.py:1013: InsecureRequestWarning: Unverified HTTPS request is being made to host 'archive.ics.uci.edu'. Adding certificate verification is strongly advised. See: https://urllib3.readthedocs.io/en/1.26.x/advanced-usage.html#ssl-warnings\n",
      "  warnings.warn(\n"
     ]
    }
   ],
   "source": [
    "# importing the data\n",
    "url = \"https://archive.ics.uci.edu/ml/machine-learning-databases/heart-disease/processed.cleveland.data\"\n",
    "\n",
    "# column names from dataset\n",
    "column_names = [\n",
    "    \"age\", \"sex\", \"cp\", \"trestbphs\", \"chol\", \"fbs\", \"restecg\", \n",
    "    \"thalach\", \"exang\", \"oldpeak\", \"slope\", \"ca\", \"thal\", \"target\"\n",
    "]\n",
    "\n",
    "# fetch dataset from URL \n",
    "response = requests.get(url, verify=False)\n",
    "data = response.text\n",
    "\n",
    "# load the dataset\n",
    "heart_disease = pd.read_csv(StringIO(data), header=None, names=column_names, na_values=\"?\")\n",
    "print(heart_disease.head())\n",
    "\n",
    "# preparing data for ML (features & targets)\n",
    "X = heart_disease.drop(columns=[\"target\"])\n",
    "y = heart_disease[\"target\"]\n",
    "\n",
    "print(\"\\n Shape of Features (x):\", X.shape)\n",
    "print(\"\\n Shape of Target (y):\", y.shape)"
   ]
  },
  {
   "cell_type": "code",
   "execution_count": 31,
   "metadata": {},
   "outputs": [
    {
     "name": "stdout",
     "output_type": "stream",
     "text": [
      "    age  sex   cp  trestbphs   chol  fbs  restecg\n",
      "0  63.0  1.0  1.0      145.0  233.0  1.0      2.0\n",
      "1  67.0  1.0  4.0      160.0  286.0  0.0      2.0\n",
      "2  67.0  1.0  4.0      120.0  229.0  0.0      2.0\n",
      "3  37.0  1.0  3.0      130.0  250.0  0.0      0.0\n",
      "4  41.0  0.0  2.0      130.0  204.0  0.0      2.0\n"
     ]
    }
   ],
   "source": [
    "#Cleaning the Data \n",
    "dropped_columns = [\"thalach\", \"exang\", \"oldpeak\", \"slope\", \"ca\", \"thal\"]\n",
    "X_cleaned = X.drop(columns=dropped_columns)\n",
    "print(X_cleaned.head())"
   ]
  },
  {
   "cell_type": "code",
   "execution_count": null,
   "metadata": {},
   "outputs": [],
   "source": [
    "class Diagnoser(object):\n",
    "    def __init__(self, training_set, test_set):\n",
    "        if isinstance(training_set, str):\n",
    "            # the training set is a file name\n",
    "            self.training_set = pd.read_csv(training_set)\n",
    "        else:\n",
    "            # the training set is a DataFrame\n",
    "            self.training_set = training_set.copy()\n",
    "\n",
    "        if isinstance(test_set, str):\n",
    "            # the test set is a file name\n",
    "            self.test_set = pd.read_csv(test_set)\n",
    "        else:\n",
    "            # the test set is a DataFrame\n",
    "            self.test_set = test_set.copy()\n",
    "\n",
    "\n",
    "def train_user_euclidean(self, data_set, userId):\n",
    "\n",
    "        sim_weights = {}\n",
    "        print(\"length of datacos, \",(data_set.columns))\n",
    "        for user in data_set.columns[1:len(data_set.columns)]:\n",
    "            if(user!=userId):\n",
    "                df_subset = data_set[[userId,user]][data_set[userId].notnull() & data_set[user].notnull()]\n",
    "                dist = euclidean(df_subset[userId], df_subset[user])\n",
    "                sim_weights[user] = 1.0 / (1.0 + dist)\n",
    "        return sim_weights # dictionary of weights mapped to users. e.g. {\"0331949b45\":1.0, \"1030c5a8a9\":2.5}\n",
    "    "
   ]
  }
 ],
 "metadata": {
  "kernelspec": {
   "display_name": "Python 3",
   "language": "python",
   "name": "python3"
  },
  "language_info": {
   "codemirror_mode": {
    "name": "ipython",
    "version": 3
   },
   "file_extension": ".py",
   "mimetype": "text/x-python",
   "name": "python",
   "nbconvert_exporter": "python",
   "pygments_lexer": "ipython3",
   "version": "3.10.5"
  }
 },
 "nbformat": 4,
 "nbformat_minor": 2
}
